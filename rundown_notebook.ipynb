{
 "cells": [
  {
   "cell_type": "markdown",
   "metadata": {},
   "source": [
    "# Metropolis Hastings\n",
    "Accomadating notebook to reproduce the experiments from the Bachelor's Thesis 'The Metropolis-Hastings algorithm for large datasets'"
   ]
  },
  {
   "cell_type": "code",
   "execution_count": 79,
   "metadata": {},
   "outputs": [],
   "source": [
    "import matplotlib.pyplot as plt\n",
    "import seaborn as sns\n",
    "import numpy as np\n",
    "import numpy.random as npr\n",
    "import numpy.linalg as npl\n",
    "import time"
   ]
  },
  {
   "cell_type": "markdown",
   "metadata": {},
   "source": [
    "## Useful functions"
   ]
  },
  {
   "cell_type": "code",
   "execution_count": 59,
   "metadata": {},
   "outputs": [],
   "source": [
    "#This cell implements the subsampling methods used for the samples produced by MH\n",
    "def create_sample(data, b, c):\n",
    "    # Discard the first b of elements\n",
    "    data = data[b:]\n",
    "\n",
    "    # Select every c datapoint\n",
    "    data = data[::c]\n",
    "\n",
    "    return data"
   ]
  },
  {
   "cell_type": "code",
   "execution_count": 58,
   "metadata": {},
   "outputs": [],
   "source": [
    "import numpy as np\n",
    "#This cell implements all plotting functions\n",
    "def plt_samples(dataset):\n",
    "    '''Plots the samples in a jointplot'''\n",
    "    # Create a jointplot with fading datapoints\n",
    "    sns.jointplot(x=dataset[:, 0], y=dataset[:, 1], kind='hex', cmap='Blues', alpha=1)\n",
    "\n",
    "    # Show the plot\n",
    "    plt.show()\n",
    "\n",
    "def plot_running_average(data, w):\n",
    "    '''Plots the running average of the acceptance rate over a window of w iterations'''\n",
    "    running_avg = np.convolve(data, np.ones(w), 'valid') / w\n",
    "    plt.plot(running_avg)\n",
    "    plt.xlabel('Data Iteration')\n",
    "    plt.ylabel('Running Average of Acceptance Rate')\n",
    "    plt.title('Running Average over a Window of {} Data Points'.format(w))\n",
    "    plt.show()\n",
    "\n",
    "\n"
   ]
  },
  {
   "cell_type": "code",
   "execution_count": 73,
   "metadata": {},
   "outputs": [],
   "source": [
    "#This cell implements all likelihood functions and their gradients for the different statistical models\n",
    "class Normal_param_loglkhd():\n",
    "\n",
    "    def comp_func(self,data, theta):\n",
    "        '''Return log_likelihood of mu, sigma of a normal distribution for given data'''\n",
    "        mu = theta[0]\n",
    "        sigma = theta[1]\n",
    "        log_lkhd = -((mu - data) ** 2) / (2 * sigma**2) - np.log(sigma)\n",
    "        return log_lkhd\n",
    "\n",
    "    def comp_grad(self,data, theta):\n",
    "        '''Return gradient of mu, sigma of a normal distribution for given data'''\n",
    "        mu = theta[0]\n",
    "        sigma = theta[1]\n",
    "        grad_mu = (mu - data) / sigma**2\n",
    "        grad_sigma = ((mu - data) ** 2 - sigma**2) / sigma**3\n",
    "        return grad_mu, grad_sigma\n",
    "\n",
    "    def comp_hess(self, data, theta):\n",
    "        '''Return hessian of mu, sigma of a normal distribution for given data'''\n",
    "        pass\n",
    "\n",
    "class Bimodal_norm_param_loglkhd():\n",
    "\n",
    "    def comp_func(self, data, theta):\n",
    "            '''Return log_likelihood of mu1 (expected value of the first normal distribution), mu2 (expected value of the second normal distribution) and p (probability of the first normal distribution) of a bimodal normal distribution for given data'''\n",
    "            mu_1 = theta[0]\n",
    "            mu_2 = theta[1]\n",
    "            p = 0.5\n",
    "            lkhd_mu1 = np.exp((-((data - mu_1) ** 2)) / 2)\n",
    "            lkhd_mu2 = np.exp((-((data - mu_2) ** 2)) / 2)\n",
    "            log_lkhd = np.log(p * lkhd_mu1 + (1 - p) * lkhd_mu2)\n",
    "            return log_lkhd\n",
    "\n",
    "#Test the likelihood function\n",
    "#test_norm = Normal_param_loglkhd()\n",
    "#data = np.array([1, 2, 3, 4, 5])\n",
    "#print(test_norm.comp_func(data, np.array([0,1])))\n"
   ]
  },
  {
   "cell_type": "code",
   "execution_count": 75,
   "metadata": {},
   "outputs": [],
   "source": [
    "# This cell implements all proposal functions\n",
    "\n",
    "class Gaussian_Random_Walk():\n",
    "    def propose_sample(self, theta, stepsize):\n",
    "        '''Propose a new sample using a Gaussian random walk proposal'''\n",
    "        proposal = npr.normal(theta, stepsize, len(theta))\n",
    "        return proposal\n",
    "\n",
    "class Langevin_Sampler():\n",
    "    def propose_sample(self, theta, stepsize, grad, gradient_scaler):\n",
    "        '''Propose a new sample using a Langevin proposal'''\n",
    "        proposal = npr.normal(theta - grad * gradient_scaler, stepsize, len(theta)) #TODO: Check if this is correct\n",
    "        return proposal\n",
    "    # Test samplers\n",
    "#test_sampler = Gaussian_Random_Walk()\n",
    "#print(test_sampler.propose_sample(np.array([0, 0]), 0.1))"
   ]
  },
  {
   "cell_type": "markdown",
   "metadata": {},
   "source": [
    "## Algorithms"
   ]
  },
  {
   "cell_type": "code",
   "execution_count": 44,
   "metadata": {},
   "outputs": [],
   "source": [
    "def vanillaMH(data, lkhd_function, proposal_function, initial_theta, num_iterations, stepsize):\n",
    "    '''Return samples, acceptance probability, likelihoods,  of vanilla MH algorithm'''\n",
    "    # Initialize variables\n",
    "    acceptence_prob = np.empty(num_iterations-1)\n",
    "    accepted = np.empty(num_iterations-1)\n",
    "    samples = np.empty((num_iterations, initial_theta.size))\n",
    "    samples[0] = initial_theta\n",
    "    lkhd = np.empty(num_iterations)\n",
    "    lkhd[0] = np.sum(lkhd_function.comp_func(data, initial_theta))\n",
    "\n",
    "    for i in range(num_iterations - 1):\n",
    "        # Propose a new sample\n",
    "        proposal = proposal_function.propose_sample(samples[i], stepsize)\n",
    "\n",
    "        # Compute the acceptance probability\n",
    "        lkhd_proposal = np.sum(lkhd_function.comp_func(data, proposal))\n",
    "        acceptence_prob[i] = np.exp(lkhd_proposal - lkhd[i])\n",
    "\n",
    "        # Accept or reject the proposal\n",
    "        u = npr.rand()\n",
    "        if u < acceptence_prob[i]:\n",
    "            samples[i+1] = proposal\n",
    "            lkhd[i+1] = lkhd_proposal\n",
    "            accepted[i] = 1\n",
    "        else:\n",
    "            samples[i+1] = samples[i]\n",
    "            lkhd[i+1] = lkhd[i]\n",
    "            accepted[i] = 0\n",
    "\n",
    "\n",
    "    return samples, accepted, acceptence_prob, lkhd\n"
   ]
  },
  {
   "cell_type": "markdown",
   "metadata": {},
   "source": [
    "## Running Examples"
   ]
  },
  {
   "cell_type": "code",
   "execution_count": 14,
   "metadata": {},
   "outputs": [
    {
     "name": "stdout",
     "output_type": "stream",
     "text": [
      "Real mean:  0.005253028489682668\n",
      "Real std:  0.9983292735417362\n",
      "[-2.25211836  0.60568705  1.18338458 ...  8.83363722  8.00373374\n",
      "  8.77219844]\n"
     ]
    }
   ],
   "source": [
    "npr.seed(1)\n",
    "N = 10**5 # Number of data points\n",
    "\n",
    "# Norm param dataset\n",
    "normal_param_data = npr.normal(0, 1, N)\n",
    "realMean = np.mean(normal_param_data)\n",
    "realStd = np.std(normal_param_data)\n",
    "normal_param_MAP = np.array([realMean, realStd])\n",
    "#plt.hist(normal_param_data, bins=100)\n",
    "\n",
    "# Bimodal norm param dataset\n",
    "p =1/2\n",
    "mu1 = 0\n",
    "mu2 =8\n",
    "mu1_normal = npr.normal(mu1, 1, int(N*(p)))\n",
    "mu2_normal = npr.normal(mu2, 1, int(N*(1-p)))\n",
    "bimodal_data = np.concatenate((mu1_normal, mu2_normal))\n",
    "print(bimodal_data)\n",
    "npr.shuffle(bimodal_data)\n",
    "#plt.hist(bimodal_data, bins=100)\n"
   ]
  },
  {
   "cell_type": "markdown",
   "metadata": {},
   "source": [
    "## vanillaMH"
   ]
  },
  {
   "cell_type": "code",
   "execution_count": 70,
   "metadata": {},
   "outputs": [
    {
     "name": "stderr",
     "output_type": "stream",
     "text": [
      "/tmp/ipykernel_347478/1772764699.py:17: RuntimeWarning: overflow encountered in exp\n",
      "  acceptence_prob[i] = np.exp(lkhd_proposal - lkhd[i])\n"
     ]
    }
   ],
   "source": [
    "# vanillaMH\n",
    "# Parameters\n",
    "data = bimodal_data\n",
    "lkhd = Bimodal_norm_param_loglkhd()\n",
    "proposal = Gaussian_Random_Walk()\n",
    "initial_theta = np.array([2,4])\n",
    "num_iterations = 10**5\n",
    "stepsize = 0.1\n",
    "\n",
    "samples, accepted, acceptence_prob, lkhd = vanillaMH(data, lkhd, proposal, initial_theta, num_iterations, stepsize)"
   ]
  },
  {
   "cell_type": "code",
   "execution_count": 71,
   "metadata": {},
   "outputs": [
    {
     "data": {
      "image/png": "[encoded data removed]",
      "text/plain": [
       "<Figure size 600x600 with 3 Axes>"
      ]
     },
     "metadata": {},
     "output_type": "display_data"
    }
   ],
   "source": [
    "plot_samples = create_sample(samples, 100,10)\n",
    "\n",
    "plt_samples(plot_samples)"
   ]
  },
  {
   "cell_type": "markdown",
   "metadata": {},
   "source": [
    "## MALA"
   ]
  },
  {
   "cell_type": "code",
   "execution_count": 81,
   "metadata": {},
   "outputs": [],
   "source": [
    "def mala(data, lkhd_function, proposal_function, initial_theta, num_iterations, stepsize, gradient_scaler):\n",
    "    '''Return samples, acceptance probability, likelihoods,  of vanilla MH algorithm'''\n",
    "    # Initialize variables\n",
    "    acceptence_prob = np.empty(num_iterations-1)\n",
    "    accepted = np.empty(num_iterations-1)\n",
    "    samples = np.empty((num_iterations, initial_theta.size))\n",
    "    lkhd = np.empty(num_iterations)\n",
    "    grad = np.empty((num_iterations, initial_theta.size))\n",
    "    #Compute initial values\n",
    "    samples[0] = initial_theta\n",
    "    lkhd[0] = np.sum(lkhd_function.comp_func(data, initial_theta))\n",
    "    grad[0] = np.sum(lkhd_function.comp_grad(data, initial_theta))\n",
    "\n",
    "    for i in range(num_iterations - 1):\n",
    "        # Propose a new sample\n",
    "        proposal = proposal_function.propose_sample(samples[i], stepsize, grad[i], gradient_scaler)\n",
    "\n",
    "        # Compute the acceptance probability\n",
    "        lkhd_proposal = np.sum(lkhd_function.comp_func(data, proposal))\n",
    "        grad_proposal = np.sum(lkhd_function.comp_grad(data, proposal))\n",
    "        diff_old = npl.norm(npl.norm(proposal - samples[i] + gradient_scaler*grad[i]))\n",
    "        diff_new = npl.norm(npl.norm(samples[i] - proposal + gradient_scaler*grad_proposal))\n",
    "        lkhd_diff = lkhd_proposal - lkhd[i]\n",
    "        acceptence_prob[i] = np.exp(lkhd_diff + (diff_old - diff_new) / (2*stepsize))\n",
    "\n",
    "        # Accept or reject the proposal\n",
    "        u = npr.rand()\n",
    "        if u < acceptence_prob[i]:\n",
    "            samples[i+1] = proposal\n",
    "            lkhd[i+1] = lkhd_proposal\n",
    "            grad[i+1] = grad_proposal\n",
    "            accepted[i] = 1\n",
    "        else:\n",
    "            samples[i+1] = samples[i]\n",
    "            lkhd[i+1] = lkhd[i]\n",
    "            grad[i+1] = grad[i]\n",
    "            accepted[i] = 0\n",
    "\n",
    "\n",
    "    return samples, accepted, acceptence_prob, lkhd\n"
   ]
  },
  {
   "cell_type": "code",
   "execution_count": 82,
   "metadata": {},
   "outputs": [],
   "source": [
    "# MALA\n",
    "# Parameters\n",
    "data = normal_param_data\n",
    "lkhd = Normal_param_loglkhd()\n",
    "proposal = Langevin_Sampler()\n",
    "initial_theta = np.array([2,4])\n",
    "num_iterations = 10**4\n",
    "stepsize = 0.1\n",
    "gradient_scaler = 0.5\n",
    "\n",
    "samples, accepted, acceptence_prob, lkhd = mala(data, lkhd, proposal, initial_theta, num_iterations, stepsize, gradient_scaler)"
   ]
  },
  {
   "cell_type": "code",
   "execution_count": 83,
   "metadata": {},
   "outputs": [
    {
     "data": {
      "image/png": "[encoded data removed]",
      "text/plain": [
       "<Figure size 600x600 with 3 Axes>"
      ]
     },
     "metadata": {},
     "output_type": "display_data"
    }
   ],
   "source": [
    "plot_samples = create_sample(samples, 100,10)\n",
    "\n",
    "plt_samples(plot_samples)"
   ]
  }
 ],
 "metadata": {
  "kernelspec": {
   "display_name": "Python 3",
   "language": "python",
   "name": "python3"
  },
  "language_info": {
   "codemirror_mode": {
    "name": "ipython",
    "version": 3
   },
   "file_extension": ".py",
   "mimetype": "text/x-python",
   "name": "python",
   "nbconvert_exporter": "python",
   "pygments_lexer": "ipython3",
   "version": "3.10.12"
  }
 },
 "nbformat": 4,
 "nbformat_minor": 2
}
