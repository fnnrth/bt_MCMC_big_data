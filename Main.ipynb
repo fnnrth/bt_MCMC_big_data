{
 "cells": [
  {
   "cell_type": "code",
   "execution_count": 1,
   "metadata": {
    "id": "RsIlA6oNDofz"
   },
   "outputs": [],
   "source": [
    "import matplotlib.pyplot as plt\n",
    "import seaborn as sns\n",
    "import numpy as np\n",
    "import numpy.random as npr\n",
    "import time"
   ]
  },
  {
   "cell_type": "code",
   "execution_count": 2,
   "metadata": {},
   "outputs": [],
   "source": [
    "from MetropolisHastings import MetropolisHastings\n",
    "from ConsensusMH import ConsensusMH\n",
    "from FlyMH import FlyMH"
   ]
  },
  {
   "cell_type": "code",
   "execution_count": 3,
   "metadata": {},
   "outputs": [
    {
     "name": "stdout",
     "output_type": "stream",
     "text": [
      "Mean of x = 0.005253028489682668\n",
      "Std of x = 0.9983292735417362\n"
     ]
    }
   ],
   "source": [
    "npr.seed(1)\n",
    "N = 100000\n",
    "dataType = \"Gaussian\"\n",
    "#dataType = \"logNormal\"\n",
    "if dataType == \"Gaussian\":\n",
    "    x = npr.randn(N)\n",
    "elif dataType == \"logNormal\":\n",
    "    x = np.log_normal(0,1)\n",
    "\n",
    "# We store the mean and std deviation for later reference, they are also the MAP and MLE estimates in this case.\n",
    "realMean = np.mean(x)\n",
    "realStd = np.std(x)\n",
    "print(f\"Mean of x = {realMean}\")\n",
    "print(f\"Std of x = {realStd}\")\n",
    "MAP = np.array([realMean,realStd])"
   ]
  },
  {
   "cell_type": "code",
   "execution_count": 4,
   "metadata": {
    "id": "ihqsvTQ74Vy-"
   },
   "outputs": [],
   "source": [
    "# test_vanillMH = MetropolisHastings(x)\n",
    "\n",
    "# start_time = time.time()\n",
    "# test_vanillMH_run = test_vanillMH.run(10000, MAP, x)\n",
    "# end_time = time.time()\n",
    "# execution_time = end_time - start_time\n",
    "# print(f\"Execution time: {execution_time:.6f} seconds\")\n",
    "# print(test_vanillMH_run)\n",
    "# sns.jointplot(x=test_vanillMH_run[:,0],y=test_vanillMH_run[:,1])"
   ]
  },
  {
   "cell_type": "code",
   "execution_count": 5,
   "metadata": {
    "colab": {
     "base_uri": "https://localhost:8080/",
     "height": 624
    },
    "id": "KmfuvFIUImqO",
    "outputId": "341ad5b1-82c2-46a8-f63f-8774e8cb22b2"
   },
   "outputs": [
    {
     "ename": "ValueError",
     "evalue": "could not broadcast input array from shape (8,) into shape (4,2)",
     "output_type": "error",
     "traceback": [
      "\u001b[1;31m---------------------------------------------------------------------------\u001b[0m",
      "\u001b[1;31mValueError\u001b[0m                                Traceback (most recent call last)",
      "Cell \u001b[1;32mIn[5], line 4\u001b[0m\n\u001b[0;32m      1\u001b[0m cons \u001b[38;5;241m=\u001b[39m ConsensusMH(dataset \u001b[38;5;241m=\u001b[39m x, num_batches\u001b[38;5;241m=\u001b[39m\u001b[38;5;241m4\u001b[39m)\n\u001b[0;32m      3\u001b[0m start_time \u001b[38;5;241m=\u001b[39m time\u001b[38;5;241m.\u001b[39mtime()\n\u001b[1;32m----> 4\u001b[0m S \u001b[38;5;241m=\u001b[39m cons\u001b[38;5;241m.\u001b[39mrun(\u001b[38;5;241m10000\u001b[39m, MAP)\n\u001b[0;32m      5\u001b[0m end_time \u001b[38;5;241m=\u001b[39m time\u001b[38;5;241m.\u001b[39mtime()\n\u001b[0;32m      6\u001b[0m execution_time \u001b[38;5;241m=\u001b[39m end_time \u001b[38;5;241m-\u001b[39m start_time\n",
      "File \u001b[1;32mc:\\Users\\fynno\\Desktop\\bt_MCMC_big_data\\ConsensusMH.py:16\u001b[0m, in \u001b[0;36mConsensusMH.run\u001b[1;34m(self, T, theta)\u001b[0m\n\u001b[0;32m     14\u001b[0m \u001b[38;5;28;01mdef\u001b[39;00m \u001b[38;5;21mrun\u001b[39m(\u001b[38;5;28mself\u001b[39m, T, theta):\n\u001b[0;32m     15\u001b[0m     S \u001b[38;5;241m=\u001b[39m np\u001b[38;5;241m.\u001b[39mzeros((T, \u001b[38;5;28mself\u001b[39m\u001b[38;5;241m.\u001b[39mnum_batches, theta\u001b[38;5;241m.\u001b[39msize))\n\u001b[1;32m---> 16\u001b[0m     S[\u001b[38;5;241m0\u001b[39m,:] \u001b[38;5;241m=\u001b[39m np\u001b[38;5;241m.\u001b[39mrepeat(theta,\u001b[38;5;28mself\u001b[39m\u001b[38;5;241m.\u001b[39mnum_batches, axis\u001b[38;5;241m=\u001b[39m\u001b[38;5;241m0\u001b[39m)\n\u001b[0;32m     17\u001b[0m     batches_data \u001b[38;5;241m=\u001b[39m \u001b[38;5;28mself\u001b[39m\u001b[38;5;241m.\u001b[39mcreate_batches()\n\u001b[0;32m     18\u001b[0m     args \u001b[38;5;241m=\u001b[39m [(T, theta, batch) \u001b[38;5;28;01mfor\u001b[39;00m batch \u001b[38;5;129;01min\u001b[39;00m batches_data]\n",
      "\u001b[1;31mValueError\u001b[0m: could not broadcast input array from shape (8,) into shape (4,2)"
     ]
    }
   ],
   "source": [
    "test_consMH = ConsensusMH(dataset = x, num_batches=4)\n",
    "\n",
    "start_time = time.time()\n",
    "test_consMH_run = test_consMH.run(10000, MAP)\n",
    "end_time = time.time()\n",
    "execution_time = end_time - start_time\n",
    "print(f\"Execution time: {execution_time:.6f} seconds\")\n",
    "sns.jointplot(x=test_consMH_run[:,0],y=test_consMH_run[:,1])"
   ]
  },
  {
   "cell_type": "code",
   "execution_count": null,
   "metadata": {},
   "outputs": [],
   "source": []
  }
 ],
 "metadata": {
  "colab": {
   "provenance": []
  },
  "kernelspec": {
   "display_name": "Python 3 (ipykernel)",
   "language": "python",
   "name": "python3"
  },
  "language_info": {
   "codemirror_mode": {
    "name": "ipython",
    "version": 3
   },
   "file_extension": ".py",
   "mimetype": "text/x-python",
   "name": "python",
   "nbconvert_exporter": "python",
   "pygments_lexer": "ipython3",
   "version": "3.11.5"
  }
 },
 "nbformat": 4,
 "nbformat_minor": 1
}
