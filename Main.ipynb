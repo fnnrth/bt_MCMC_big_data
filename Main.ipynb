{
 "cells": [
  {
   "cell_type": "code",
   "execution_count": 26,
   "metadata": {
    "id": "RsIlA6oNDofz"
   },
   "outputs": [],
   "source": [
    "import concurrent.futures\n",
    "import matplotlib.pyplot as plt\n",
    "import seaborn as sns\n",
    "import numpy as np\n",
    "import numpy.random as npr\n",
    "import time"
   ]
  },
  {
   "cell_type": "code",
   "execution_count": 33,
   "metadata": {},
   "outputs": [],
   "source": [
    "from MetropolisHastings import MetropolisHastings\n",
    "from ConsensusMH import ConsensusMH\n",
    "from FlyMH import FlyMH"
   ]
  },
  {
   "cell_type": "code",
   "execution_count": 34,
   "metadata": {},
   "outputs": [
    {
     "name": "stdout",
     "output_type": "stream",
     "text": [
      "Mean of x = 0.005253028489682668\n",
      "Std of x = 0.9983292735417362\n"
     ]
    }
   ],
   "source": [
    "npr.seed(1)\n",
    "N = 100000\n",
    "dataType = \"Gaussian\"\n",
    "#dataType = \"logNormal\"\n",
    "if dataType == \"Gaussian\":\n",
    "    x = npr.randn(N)\n",
    "elif dataType == \"logNormal\":\n",
    "    x = np.log_normal(0,1)\n",
    "\n",
    "# We store the mean and std deviation for later reference, they are also the MAP and MLE estimates in this case.\n",
    "realMean = np.mean(x)\n",
    "realStd = np.std(x)\n",
    "print(f\"Mean of x = {realMean}\")\n",
    "print(f\"Std of x = {realStd}\")"
   ]
  },
  {
   "cell_type": "code",
   "execution_count": 37,
   "metadata": {
    "id": "ihqsvTQ74Vy-"
   },
   "outputs": [
    {
     "ename": "TypeError",
     "evalue": "'int' object is not callable",
     "output_type": "error",
     "traceback": [
      "\u001b[1;31m---------------------------------------------------------------------------\u001b[0m",
      "\u001b[1;31mTypeError\u001b[0m                                 Traceback (most recent call last)",
      "Cell \u001b[1;32mIn[37], line 2\u001b[0m\n\u001b[0;32m      1\u001b[0m \u001b[38;5;28mmap\u001b[39m \u001b[38;5;241m=\u001b[39m np\u001b[38;5;241m.\u001b[39marray([realMean,realStd])\n\u001b[1;32m----> 2\u001b[0m test_vanillMH \u001b[38;5;241m=\u001b[39m MetropolisHastings(x)\n\u001b[0;32m      4\u001b[0m start_time \u001b[38;5;241m=\u001b[39m time\u001b[38;5;241m.\u001b[39mtime()\n\u001b[0;32m      5\u001b[0m test_vanillMH_run \u001b[38;5;241m=\u001b[39m test_vanillMH\u001b[38;5;241m.\u001b[39mrun(\u001b[38;5;241m10000\u001b[39m, \u001b[38;5;28mmap\u001b[39m, x)\n",
      "File \u001b[1;32mc:\\Users\\fynno\\Desktop\\bt_MCMC_big_data\\MetropolisHastings.py:12\u001b[0m, in \u001b[0;36m__init__\u001b[1;34m(self, dataset)\u001b[0m\n\u001b[0;32m     11\u001b[0m \u001b[38;5;28;01mdef\u001b[39;00m \u001b[38;5;21m__init__\u001b[39m(\u001b[38;5;28mself\u001b[39m, dataset):\n\u001b[1;32m---> 12\u001b[0m     \u001b[38;5;28mself\u001b[39m\u001b[38;5;241m.\u001b[39mdataset \u001b[38;5;241m=\u001b[39m dataset\n\u001b[0;32m     13\u001b[0m     \u001b[38;5;28mself\u001b[39m\u001b[38;5;241m.\u001b[39mN \u001b[38;5;241m=\u001b[39m dataset\u001b[38;5;241m.\u001b[39msize(\u001b[38;5;241m0\u001b[39m)\n",
      "\u001b[1;31mTypeError\u001b[0m: 'int' object is not callable"
     ]
    }
   ],
   "source": [
    "map = np.array([realMean,realStd])\n",
    "test_vanillMH = MetropolisHastings(x)\n",
    "\n",
    "start_time = time.time()\n",
    "test_vanillMH_run = test_vanillMH.run(10000, map, x)\n",
    "end_time = time.time()\n",
    "execution_time = end_time - start_time\n",
    "print(f\"Execution time: {execution_time:.6f} seconds\")\n",
    "print(test_vanillMH_run)\n",
    "sns.jointplot(x=test_vanillMH_run[:,0],y=test_vanillMH_run[:,1])"
   ]
  },
  {
   "cell_type": "code",
   "execution_count": 31,
   "metadata": {
    "colab": {
     "base_uri": "https://localhost:8080/",
     "height": 624
    },
    "id": "KmfuvFIUImqO",
    "outputId": "341ad5b1-82c2-46a8-f63f-8774e8cb22b2"
   },
   "outputs": [
    {
     "ename": "TypeError",
     "evalue": "'int' object is not callable",
     "output_type": "error",
     "traceback": [
      "\u001b[1;31m---------------------------------------------------------------------------\u001b[0m",
      "\u001b[1;31mTypeError\u001b[0m                                 Traceback (most recent call last)",
      "Cell \u001b[1;32mIn[31], line 1\u001b[0m\n\u001b[1;32m----> 1\u001b[0m cons \u001b[38;5;241m=\u001b[39m ConsensusMH(dataset \u001b[38;5;241m=\u001b[39m x, num_batches\u001b[38;5;241m=\u001b[39m\u001b[38;5;241m4\u001b[39m)\n\u001b[0;32m      3\u001b[0m start_time \u001b[38;5;241m=\u001b[39m time\u001b[38;5;241m.\u001b[39mtime()\n\u001b[0;32m      4\u001b[0m S \u001b[38;5;241m=\u001b[39m cons\u001b[38;5;241m.\u001b[39mrun(\u001b[38;5;241m10000\u001b[39m, \u001b[38;5;28mmap\u001b[39m)\n",
      "File \u001b[1;32mc:\\Users\\fynno\\Desktop\\bt_MCMC_big_data\\ConsensusMH.py:14\u001b[0m, in \u001b[0;36mConsensusMH.__init__\u001b[1;34m(self, dataset, num_batches)\u001b[0m\n\u001b[0;32m     12\u001b[0m \u001b[38;5;28;01mdef\u001b[39;00m \u001b[38;5;21m__init__\u001b[39m(\u001b[38;5;28mself\u001b[39m, dataset, num_batches):\n\u001b[0;32m     13\u001b[0m     \u001b[38;5;28msuper\u001b[39m()\u001b[38;5;241m.\u001b[39m\u001b[38;5;21m__init__\u001b[39m(dataset)\n\u001b[1;32m---> 14\u001b[0m     \u001b[38;5;28mself\u001b[39m\u001b[38;5;241m.\u001b[39mnum_batches \u001b[38;5;241m=\u001b[39m num_batches\n",
      "\u001b[1;31mTypeError\u001b[0m: 'int' object is not callable"
     ]
    }
   ],
   "source": [
    "cons = ConsensusMH(dataset = x, num_batches=4)\n",
    "\n",
    "start_time = time.time()\n",
    "S = cons.run(10000, map)\n",
    "end_time = time.time()\n",
    "execution_time = end_time - start_time\n",
    "print(f\"Execution time: {execution_time:.6f} seconds\")\n",
    "sns.jointplot(x=S[:,0],y=S[:,1])"
   ]
  },
  {
   "cell_type": "code",
   "execution_count": null,
   "metadata": {},
   "outputs": [],
   "source": []
  }
 ],
 "metadata": {
  "colab": {
   "provenance": []
  },
  "kernelspec": {
   "display_name": "Python 3 (ipykernel)",
   "language": "python",
   "name": "python3"
  },
  "language_info": {
   "codemirror_mode": {
    "name": "ipython",
    "version": 3
   },
   "file_extension": ".py",
   "mimetype": "text/x-python",
   "name": "python",
   "nbconvert_exporter": "python",
   "pygments_lexer": "ipython3",
   "version": "3.11.5"
  }
 },
 "nbformat": 4,
 "nbformat_minor": 1
}
